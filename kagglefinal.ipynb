{
 "cells": [
  {
   "cell_type": "code",
   "execution_count": 4,
   "id": "deee3132-0bc2-4c08-86f9-1863f67c9215",
   "metadata": {
    "tags": []
   },
   "outputs": [],
   "source": [
    "import numpy as np\n",
    "import pandas as pd\n",
    "from sklearn.model_selection import train_test_split\n",
    "from sklearn.linear_model import LinearRegression\n",
    "from sklearn.metrics import r2_score, mean_squared_error, mean_absolute_error\n",
    "from copy import deepcopy"
   ]
  },
  {
   "cell_type": "code",
   "execution_count": 6,
   "id": "868dba1d-97cd-4876-8a1a-efed23c39af8",
   "metadata": {
    "tags": []
   },
   "outputs": [
    {
     "name": "stdout",
     "output_type": "stream",
     "text": [
      "          id    brand                             model  model_year  milage  \\\n",
      "0          0     Ford                      F-150 Lariat        2018   74349   \n",
      "1          1      BMW                             335 i        2007   80000   \n",
      "2          2   Jaguar                         XF Luxury        2009   91491   \n",
      "3          3      BMW                      X7 xDrive40i        2022    2437   \n",
      "4          4  Pontiac                     Firebird Base        2001  111000   \n",
      "...      ...      ...                               ...         ...     ...   \n",
      "54268  54268      BMW                      X6 xDrive50i        2017   29000   \n",
      "54269  54269     Audi                   A4 2.0T Premium        2015   94634   \n",
      "54270  54270  Porsche                         Cayenne S        2013   40989   \n",
      "54271  54271  Porsche                 911 Carrera 4 GTS        2023    1518   \n",
      "54272  54272     Audi  A5 Sportback S line Premium Plus        2021   35000   \n",
      "\n",
      "           fuel_type                                             engine  \\\n",
      "0           Gasoline      375.0HP 3.5L V6 Cylinder Engine Gasoline Fuel   \n",
      "1           Gasoline  300.0HP 3.0L Straight 6 Cylinder Engine Gasoli...   \n",
      "2           Gasoline       300.0HP 4.2L 8 Cylinder Engine Gasoline Fuel   \n",
      "3             Hybrid  335.0HP 3.0L Straight 6 Cylinder Engine Gasoli...   \n",
      "4           Gasoline      200.0HP 3.8L V6 Cylinder Engine Gasoline Fuel   \n",
      "...              ...                                                ...   \n",
      "54268       Gasoline       445.0HP 4.4L 8 Cylinder Engine Gasoline Fuel   \n",
      "54269  E85 Flex Fuel  220.0HP 2.0L 4 Cylinder Engine Flex Fuel Capab...   \n",
      "54270       Gasoline      420.0HP 3.6L V6 Cylinder Engine Gasoline Fuel   \n",
      "54271       Gasoline                               4.0L H6 24V GDI DOHC   \n",
      "54272         Hybrid  261.0HP 2.0L 4 Cylinder Engine Gasoline/Mild E...   \n",
      "\n",
      "                            transmission ext_col int_col  \\\n",
      "0                           10-Speed A/T    Blue    Gray   \n",
      "1                            6-Speed M/T   Black   Black   \n",
      "2                            6-Speed A/T  Purple   Beige   \n",
      "3         Transmission w/Dual Shift Mode    Gray   Brown   \n",
      "4                                    A/T   White   Black   \n",
      "...                                  ...     ...     ...   \n",
      "54268                        8-Speed A/T   White   Brown   \n",
      "54269                        6-Speed A/T   Black   Black   \n",
      "54270     Transmission w/Dual Shift Mode   White   Black   \n",
      "54271  8-Speed Automatic with Auto-Shift   Beige   Brown   \n",
      "54272                        8-Speed A/T   Black   Black   \n",
      "\n",
      "                                     accident clean_title   price  \n",
      "0                               None reported         Yes   11000  \n",
      "1                               None reported         Yes    8250  \n",
      "2                               None reported         Yes   15000  \n",
      "3                               None reported         Yes   63500  \n",
      "4                               None reported         Yes    7850  \n",
      "...                                       ...         ...     ...  \n",
      "54268                           None reported         Yes   29000  \n",
      "54269  At least 1 accident or damage reported         Yes    6500  \n",
      "54270  At least 1 accident or damage reported         Yes   18950  \n",
      "54271                           None reported         Yes  194965  \n",
      "54272                           None reported         Yes   37499  \n",
      "\n",
      "[54273 rows x 13 columns]\n"
     ]
    }
   ],
   "source": [
    "df1=pd.read_csv(\"kagglextrainingdataset.csv\")\n",
    "print(df1)"
   ]
  },
  {
   "cell_type": "code",
   "execution_count": 9,
   "id": "7945ac26-44b0-4eda-9c63-d5eadfd04fd8",
   "metadata": {
    "tags": []
   },
   "outputs": [],
   "source": [
    "df = deepcopy(df1[['brand', 'model', 'model_year', 'milage', 'fuel_type', 'engine',\n",
    "       'transmission', 'ext_col', 'int_col', 'accident', 'clean_title',\n",
    "       'price']])"
   ]
  },
  {
   "cell_type": "code",
   "execution_count": 12,
   "id": "2dd464a5-d0f9-433b-a3ac-91be443cd8ac",
   "metadata": {
    "tags": []
   },
   "outputs": [
    {
     "name": "stdout",
     "output_type": "stream",
     "text": [
      "         brand                             model  model_year  milage  \\\n",
      "0         Ford                      F-150 Lariat        2018   74349   \n",
      "1          BMW                             335 i        2007   80000   \n",
      "2       Jaguar                         XF Luxury        2009   91491   \n",
      "3          BMW                      X7 xDrive40i        2022    2437   \n",
      "4      Pontiac                     Firebird Base        2001  111000   \n",
      "...        ...                               ...         ...     ...   \n",
      "54268      BMW                      X6 xDrive50i        2017   29000   \n",
      "54269     Audi                   A4 2.0T Premium        2015   94634   \n",
      "54270  Porsche                         Cayenne S        2013   40989   \n",
      "54271  Porsche                 911 Carrera 4 GTS        2023    1518   \n",
      "54272     Audi  A5 Sportback S line Premium Plus        2021   35000   \n",
      "\n",
      "           fuel_type                                             engine  \\\n",
      "0           Gasoline      375.0HP 3.5L V6 Cylinder Engine Gasoline Fuel   \n",
      "1           Gasoline  300.0HP 3.0L Straight 6 Cylinder Engine Gasoli...   \n",
      "2           Gasoline       300.0HP 4.2L 8 Cylinder Engine Gasoline Fuel   \n",
      "3             Hybrid  335.0HP 3.0L Straight 6 Cylinder Engine Gasoli...   \n",
      "4           Gasoline      200.0HP 3.8L V6 Cylinder Engine Gasoline Fuel   \n",
      "...              ...                                                ...   \n",
      "54268       Gasoline       445.0HP 4.4L 8 Cylinder Engine Gasoline Fuel   \n",
      "54269  E85 Flex Fuel  220.0HP 2.0L 4 Cylinder Engine Flex Fuel Capab...   \n",
      "54270       Gasoline      420.0HP 3.6L V6 Cylinder Engine Gasoline Fuel   \n",
      "54271       Gasoline                               4.0L H6 24V GDI DOHC   \n",
      "54272         Hybrid  261.0HP 2.0L 4 Cylinder Engine Gasoline/Mild E...   \n",
      "\n",
      "                            transmission ext_col int_col  \\\n",
      "0                           10-Speed A/T    Blue    Gray   \n",
      "1                            6-Speed M/T   Black   Black   \n",
      "2                            6-Speed A/T  Purple   Beige   \n",
      "3         Transmission w/Dual Shift Mode    Gray   Brown   \n",
      "4                                    A/T   White   Black   \n",
      "...                                  ...     ...     ...   \n",
      "54268                        8-Speed A/T   White   Brown   \n",
      "54269                        6-Speed A/T   Black   Black   \n",
      "54270     Transmission w/Dual Shift Mode   White   Black   \n",
      "54271  8-Speed Automatic with Auto-Shift   Beige   Brown   \n",
      "54272                        8-Speed A/T   Black   Black   \n",
      "\n",
      "                                     accident clean_title   price  \n",
      "0                               None reported         Yes   11000  \n",
      "1                               None reported         Yes    8250  \n",
      "2                               None reported         Yes   15000  \n",
      "3                               None reported         Yes   63500  \n",
      "4                               None reported         Yes    7850  \n",
      "...                                       ...         ...     ...  \n",
      "54268                           None reported         Yes   29000  \n",
      "54269  At least 1 accident or damage reported         Yes    6500  \n",
      "54270  At least 1 accident or damage reported         Yes   18950  \n",
      "54271                           None reported         Yes  194965  \n",
      "54272                           None reported         Yes   37499  \n",
      "\n",
      "[54273 rows x 12 columns]\n"
     ]
    }
   ],
   "source": [
    "print(df)"
   ]
  },
  {
   "cell_type": "code",
   "execution_count": 15,
   "id": "9496d7c1-9a22-48b1-a161-5b13f477b52f",
   "metadata": {
    "tags": []
   },
   "outputs": [],
   "source": [
    "from sklearn.model_selection import train_test_split, GridSearchCV\n",
    "from sklearn.preprocessing import OneHotEncoder, StandardScaler\n",
    "from sklearn.compose import ColumnTransformer\n",
    "from sklearn.pipeline import Pipeline\n",
    "from sklearn.ensemble import RandomForestRegressor\n",
    "from sklearn.metrics import mean_squared_error\n"
   ]
  },
  {
   "cell_type": "code",
   "execution_count": 18,
   "id": "99d6c2e4-af7e-43fc-95bd-0f57213d34f9",
   "metadata": {
    "tags": []
   },
   "outputs": [],
   "source": [
    "X = df.drop(columns=['price'])\n",
    "y = df['price']"
   ]
  },
  {
   "cell_type": "code",
   "execution_count": 21,
   "id": "ae2685dc-1917-4a2f-a7cf-fa4dfaa05c04",
   "metadata": {
    "tags": []
   },
   "outputs": [],
   "source": [
    "categorical_features = ['brand', 'model', 'fuel_type', 'engine', 'transmission', 'ext_col', 'int_col', 'accident', 'clean_title']\n",
    "numerical_features = ['model_year', 'milage']"
   ]
  },
  {
   "cell_type": "code",
   "execution_count": 47,
   "id": "0304286d-2c58-440c-90db-7bd36f57b0b1",
   "metadata": {
    "tags": []
   },
   "outputs": [],
   "source": [
    "preprocessor = ColumnTransformer(\n",
    "    transformers=[\n",
    "        ('num', StandardScaler(), numerical_features),\n",
    "        ('cat', OneHotEncoder(handle_unknown='ignore'), categorical_features)\n",
    "    ])\n"
   ]
  },
  {
   "cell_type": "code",
   "execution_count": 57,
   "id": "8aa154bf-a33c-46fa-a339-66d90f58e2d2",
   "metadata": {
    "tags": []
   },
   "outputs": [],
   "source": [
    "model = Pipeline(steps=[\n",
    "    ('preprocessor', preprocessor),\n",
    "    ('regressor', RandomForestRegressor(n_estimators=50, max_depth=10, random_state=42))\n",
    "])"
   ]
  },
  {
   "cell_type": "code",
   "execution_count": 59,
   "id": "def55074-f524-4487-b34a-34836b8762a1",
   "metadata": {
    "tags": []
   },
   "outputs": [],
   "source": [
    "X_train, X_valid, y_train, y_valid = train_test_split(X, y, test_size=0.2, random_state=42)\n"
   ]
  },
  {
   "cell_type": "code",
   "execution_count": 61,
   "id": "ad5c8339-6a16-4aaf-871d-e3c0293e2bfe",
   "metadata": {
    "tags": []
   },
   "outputs": [
    {
     "data": {
      "text/html": [
       "<style>#sk-container-id-4 {color: black;background-color: white;}#sk-container-id-4 pre{padding: 0;}#sk-container-id-4 div.sk-toggleable {background-color: white;}#sk-container-id-4 label.sk-toggleable__label {cursor: pointer;display: block;width: 100%;margin-bottom: 0;padding: 0.3em;box-sizing: border-box;text-align: center;}#sk-container-id-4 label.sk-toggleable__label-arrow:before {content: \"▸\";float: left;margin-right: 0.25em;color: #696969;}#sk-container-id-4 label.sk-toggleable__label-arrow:hover:before {color: black;}#sk-container-id-4 div.sk-estimator:hover label.sk-toggleable__label-arrow:before {color: black;}#sk-container-id-4 div.sk-toggleable__content {max-height: 0;max-width: 0;overflow: hidden;text-align: left;background-color: #f0f8ff;}#sk-container-id-4 div.sk-toggleable__content pre {margin: 0.2em;color: black;border-radius: 0.25em;background-color: #f0f8ff;}#sk-container-id-4 input.sk-toggleable__control:checked~div.sk-toggleable__content {max-height: 200px;max-width: 100%;overflow: auto;}#sk-container-id-4 input.sk-toggleable__control:checked~label.sk-toggleable__label-arrow:before {content: \"▾\";}#sk-container-id-4 div.sk-estimator input.sk-toggleable__control:checked~label.sk-toggleable__label {background-color: #d4ebff;}#sk-container-id-4 div.sk-label input.sk-toggleable__control:checked~label.sk-toggleable__label {background-color: #d4ebff;}#sk-container-id-4 input.sk-hidden--visually {border: 0;clip: rect(1px 1px 1px 1px);clip: rect(1px, 1px, 1px, 1px);height: 1px;margin: -1px;overflow: hidden;padding: 0;position: absolute;width: 1px;}#sk-container-id-4 div.sk-estimator {font-family: monospace;background-color: #f0f8ff;border: 1px dotted black;border-radius: 0.25em;box-sizing: border-box;margin-bottom: 0.5em;}#sk-container-id-4 div.sk-estimator:hover {background-color: #d4ebff;}#sk-container-id-4 div.sk-parallel-item::after {content: \"\";width: 100%;border-bottom: 1px solid gray;flex-grow: 1;}#sk-container-id-4 div.sk-label:hover label.sk-toggleable__label {background-color: #d4ebff;}#sk-container-id-4 div.sk-serial::before {content: \"\";position: absolute;border-left: 1px solid gray;box-sizing: border-box;top: 0;bottom: 0;left: 50%;z-index: 0;}#sk-container-id-4 div.sk-serial {display: flex;flex-direction: column;align-items: center;background-color: white;padding-right: 0.2em;padding-left: 0.2em;position: relative;}#sk-container-id-4 div.sk-item {position: relative;z-index: 1;}#sk-container-id-4 div.sk-parallel {display: flex;align-items: stretch;justify-content: center;background-color: white;position: relative;}#sk-container-id-4 div.sk-item::before, #sk-container-id-4 div.sk-parallel-item::before {content: \"\";position: absolute;border-left: 1px solid gray;box-sizing: border-box;top: 0;bottom: 0;left: 50%;z-index: -1;}#sk-container-id-4 div.sk-parallel-item {display: flex;flex-direction: column;z-index: 1;position: relative;background-color: white;}#sk-container-id-4 div.sk-parallel-item:first-child::after {align-self: flex-end;width: 50%;}#sk-container-id-4 div.sk-parallel-item:last-child::after {align-self: flex-start;width: 50%;}#sk-container-id-4 div.sk-parallel-item:only-child::after {width: 0;}#sk-container-id-4 div.sk-dashed-wrapped {border: 1px dashed gray;margin: 0 0.4em 0.5em 0.4em;box-sizing: border-box;padding-bottom: 0.4em;background-color: white;}#sk-container-id-4 div.sk-label label {font-family: monospace;font-weight: bold;display: inline-block;line-height: 1.2em;}#sk-container-id-4 div.sk-label-container {text-align: center;}#sk-container-id-4 div.sk-container {/* jupyter's `normalize.less` sets `[hidden] { display: none; }` but bootstrap.min.css set `[hidden] { display: none !important; }` so we also need the `!important` here to be able to override the default hidden behavior on the sphinx rendered scikit-learn.org. See: https://github.com/scikit-learn/scikit-learn/issues/21755 */display: inline-block !important;position: relative;}#sk-container-id-4 div.sk-text-repr-fallback {display: none;}</style><div id=\"sk-container-id-4\" class=\"sk-top-container\"><div class=\"sk-text-repr-fallback\"><pre>Pipeline(steps=[(&#x27;preprocessor&#x27;,\n",
       "                 ColumnTransformer(transformers=[(&#x27;num&#x27;, StandardScaler(),\n",
       "                                                  [&#x27;model_year&#x27;, &#x27;milage&#x27;]),\n",
       "                                                 (&#x27;cat&#x27;,\n",
       "                                                  OneHotEncoder(handle_unknown=&#x27;ignore&#x27;),\n",
       "                                                  [&#x27;brand&#x27;, &#x27;model&#x27;,\n",
       "                                                   &#x27;fuel_type&#x27;, &#x27;engine&#x27;,\n",
       "                                                   &#x27;transmission&#x27;, &#x27;ext_col&#x27;,\n",
       "                                                   &#x27;int_col&#x27;, &#x27;accident&#x27;,\n",
       "                                                   &#x27;clean_title&#x27;])])),\n",
       "                (&#x27;regressor&#x27;,\n",
       "                 RandomForestRegressor(max_depth=10, n_estimators=50,\n",
       "                                       random_state=42))])</pre><b>In a Jupyter environment, please rerun this cell to show the HTML representation or trust the notebook. <br />On GitHub, the HTML representation is unable to render, please try loading this page with nbviewer.org.</b></div><div class=\"sk-container\" hidden><div class=\"sk-item sk-dashed-wrapped\"><div class=\"sk-label-container\"><div class=\"sk-label sk-toggleable\"><input class=\"sk-toggleable__control sk-hidden--visually\" id=\"sk-estimator-id-22\" type=\"checkbox\" ><label for=\"sk-estimator-id-22\" class=\"sk-toggleable__label sk-toggleable__label-arrow\">Pipeline</label><div class=\"sk-toggleable__content\"><pre>Pipeline(steps=[(&#x27;preprocessor&#x27;,\n",
       "                 ColumnTransformer(transformers=[(&#x27;num&#x27;, StandardScaler(),\n",
       "                                                  [&#x27;model_year&#x27;, &#x27;milage&#x27;]),\n",
       "                                                 (&#x27;cat&#x27;,\n",
       "                                                  OneHotEncoder(handle_unknown=&#x27;ignore&#x27;),\n",
       "                                                  [&#x27;brand&#x27;, &#x27;model&#x27;,\n",
       "                                                   &#x27;fuel_type&#x27;, &#x27;engine&#x27;,\n",
       "                                                   &#x27;transmission&#x27;, &#x27;ext_col&#x27;,\n",
       "                                                   &#x27;int_col&#x27;, &#x27;accident&#x27;,\n",
       "                                                   &#x27;clean_title&#x27;])])),\n",
       "                (&#x27;regressor&#x27;,\n",
       "                 RandomForestRegressor(max_depth=10, n_estimators=50,\n",
       "                                       random_state=42))])</pre></div></div></div><div class=\"sk-serial\"><div class=\"sk-item sk-dashed-wrapped\"><div class=\"sk-label-container\"><div class=\"sk-label sk-toggleable\"><input class=\"sk-toggleable__control sk-hidden--visually\" id=\"sk-estimator-id-23\" type=\"checkbox\" ><label for=\"sk-estimator-id-23\" class=\"sk-toggleable__label sk-toggleable__label-arrow\">preprocessor: ColumnTransformer</label><div class=\"sk-toggleable__content\"><pre>ColumnTransformer(transformers=[(&#x27;num&#x27;, StandardScaler(),\n",
       "                                 [&#x27;model_year&#x27;, &#x27;milage&#x27;]),\n",
       "                                (&#x27;cat&#x27;, OneHotEncoder(handle_unknown=&#x27;ignore&#x27;),\n",
       "                                 [&#x27;brand&#x27;, &#x27;model&#x27;, &#x27;fuel_type&#x27;, &#x27;engine&#x27;,\n",
       "                                  &#x27;transmission&#x27;, &#x27;ext_col&#x27;, &#x27;int_col&#x27;,\n",
       "                                  &#x27;accident&#x27;, &#x27;clean_title&#x27;])])</pre></div></div></div><div class=\"sk-parallel\"><div class=\"sk-parallel-item\"><div class=\"sk-item\"><div class=\"sk-label-container\"><div class=\"sk-label sk-toggleable\"><input class=\"sk-toggleable__control sk-hidden--visually\" id=\"sk-estimator-id-24\" type=\"checkbox\" ><label for=\"sk-estimator-id-24\" class=\"sk-toggleable__label sk-toggleable__label-arrow\">num</label><div class=\"sk-toggleable__content\"><pre>[&#x27;model_year&#x27;, &#x27;milage&#x27;]</pre></div></div></div><div class=\"sk-serial\"><div class=\"sk-item\"><div class=\"sk-estimator sk-toggleable\"><input class=\"sk-toggleable__control sk-hidden--visually\" id=\"sk-estimator-id-25\" type=\"checkbox\" ><label for=\"sk-estimator-id-25\" class=\"sk-toggleable__label sk-toggleable__label-arrow\">StandardScaler</label><div class=\"sk-toggleable__content\"><pre>StandardScaler()</pre></div></div></div></div></div></div><div class=\"sk-parallel-item\"><div class=\"sk-item\"><div class=\"sk-label-container\"><div class=\"sk-label sk-toggleable\"><input class=\"sk-toggleable__control sk-hidden--visually\" id=\"sk-estimator-id-26\" type=\"checkbox\" ><label for=\"sk-estimator-id-26\" class=\"sk-toggleable__label sk-toggleable__label-arrow\">cat</label><div class=\"sk-toggleable__content\"><pre>[&#x27;brand&#x27;, &#x27;model&#x27;, &#x27;fuel_type&#x27;, &#x27;engine&#x27;, &#x27;transmission&#x27;, &#x27;ext_col&#x27;, &#x27;int_col&#x27;, &#x27;accident&#x27;, &#x27;clean_title&#x27;]</pre></div></div></div><div class=\"sk-serial\"><div class=\"sk-item\"><div class=\"sk-estimator sk-toggleable\"><input class=\"sk-toggleable__control sk-hidden--visually\" id=\"sk-estimator-id-27\" type=\"checkbox\" ><label for=\"sk-estimator-id-27\" class=\"sk-toggleable__label sk-toggleable__label-arrow\">OneHotEncoder</label><div class=\"sk-toggleable__content\"><pre>OneHotEncoder(handle_unknown=&#x27;ignore&#x27;)</pre></div></div></div></div></div></div></div></div><div class=\"sk-item\"><div class=\"sk-estimator sk-toggleable\"><input class=\"sk-toggleable__control sk-hidden--visually\" id=\"sk-estimator-id-28\" type=\"checkbox\" ><label for=\"sk-estimator-id-28\" class=\"sk-toggleable__label sk-toggleable__label-arrow\">RandomForestRegressor</label><div class=\"sk-toggleable__content\"><pre>RandomForestRegressor(max_depth=10, n_estimators=50, random_state=42)</pre></div></div></div></div></div></div></div>"
      ],
      "text/plain": [
       "Pipeline(steps=[('preprocessor',\n",
       "                 ColumnTransformer(transformers=[('num', StandardScaler(),\n",
       "                                                  ['model_year', 'milage']),\n",
       "                                                 ('cat',\n",
       "                                                  OneHotEncoder(handle_unknown='ignore'),\n",
       "                                                  ['brand', 'model',\n",
       "                                                   'fuel_type', 'engine',\n",
       "                                                   'transmission', 'ext_col',\n",
       "                                                   'int_col', 'accident',\n",
       "                                                   'clean_title'])])),\n",
       "                ('regressor',\n",
       "                 RandomForestRegressor(max_depth=10, n_estimators=50,\n",
       "                                       random_state=42))])"
      ]
     },
     "execution_count": 61,
     "metadata": {},
     "output_type": "execute_result"
    }
   ],
   "source": [
    "model.fit(X_train, y_train)"
   ]
  },
  {
   "cell_type": "code",
   "execution_count": 63,
   "id": "90364830-d100-449b-bada-22bdfef4b1b9",
   "metadata": {
    "tags": []
   },
   "outputs": [],
   "source": [
    "y_pred = model.predict(X_test)\n"
   ]
  },
  {
   "cell_type": "code",
   "execution_count": 67,
   "id": "aff2980e-bdbd-41fb-9a06-398ebfcdbee3",
   "metadata": {
    "tags": []
   },
   "outputs": [],
   "source": [
    "df2=pd.read_csv(\"test.csv\")"
   ]
  },
  {
   "cell_type": "code",
   "execution_count": 71,
   "id": "86edb289-fdc0-47be-b0f2-4326fb5c5f43",
   "metadata": {
    "tags": []
   },
   "outputs": [],
   "source": [
    "X_test_new = df2.drop(columns=['id'])"
   ]
  },
  {
   "cell_type": "code",
   "execution_count": 75,
   "id": "838648a6-0fbd-4f38-87eb-d6e27e03bf89",
   "metadata": {
    "tags": []
   },
   "outputs": [],
   "source": [
    "predictions_new = model.predict(X_test_new)"
   ]
  },
  {
   "cell_type": "code",
   "execution_count": 77,
   "id": "9ebe59f1-cd60-4cfb-83b3-e012aef4d5c5",
   "metadata": {
    "tags": []
   },
   "outputs": [],
   "source": [
    "df2['predicted_price'] = predictions_new"
   ]
  },
  {
   "cell_type": "code",
   "execution_count": 79,
   "id": "cd2a45f3-7f45-46c9-a7b5-d22dba248af9",
   "metadata": {
    "tags": []
   },
   "outputs": [
    {
     "name": "stdout",
     "output_type": "stream",
     "text": [
      "          id  predicted_price\n",
      "0      54273     26070.244191\n",
      "1      54274     17975.942067\n",
      "2      54275     30213.415379\n",
      "3      54276     55981.839090\n",
      "4      54277     47847.149511\n",
      "...      ...              ...\n",
      "36178  90451     80595.118628\n",
      "36179  90452     13849.214772\n",
      "36180  90453     13849.214772\n",
      "36181  90454     45848.295585\n",
      "36182  90455     14085.595062\n",
      "\n",
      "[36183 rows x 2 columns]\n"
     ]
    }
   ],
   "source": [
    "print(df2[['id', 'predicted_price']])"
   ]
  },
  {
   "cell_type": "code",
   "execution_count": null,
   "id": "6b89cfa0-2050-428d-bd0b-f3ce9f2c4d90",
   "metadata": {},
   "outputs": [],
   "source": []
  }
 ],
 "metadata": {
  "kernelspec": {
   "display_name": "Python 3 (ipykernel)",
   "language": "python",
   "name": "python3"
  },
  "language_info": {
   "codemirror_mode": {
    "name": "ipython",
    "version": 3
   },
   "file_extension": ".py",
   "mimetype": "text/x-python",
   "name": "python",
   "nbconvert_exporter": "python",
   "pygments_lexer": "ipython3",
   "version": "3.11.7"
  }
 },
 "nbformat": 4,
 "nbformat_minor": 5
}
